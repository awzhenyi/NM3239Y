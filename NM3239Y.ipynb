{
 "cells": [
  {
   "cell_type": "code",
   "execution_count": 4,
   "metadata": {},
   "outputs": [],
   "source": [
    "import GetOldTweets3 as got\n",
    "import pandas as pd"
   ]
  },
  {
   "cell_type": "code",
   "execution_count": 5,
   "metadata": {},
   "outputs": [],
   "source": [
    "def get_tweets(word):\n",
    "    tweetCriteria = got.manager.TweetCriteria().setQuerySearch(word)\\\n",
    "                                            .setSince(\"2020-06-30\")\\\n",
    "                                            .setUntil(\"2020-07-09\")\\\n",
    "                                            .setMaxTweets(5000)\n",
    "    tweet = got.manager.TweetManager.getTweets(tweetCriteria)\n",
    "    text_tweets = [[tw.username,\n",
    "                tw.text,\n",
    "                tw.date,\n",
    "                tw.retweets,\n",
    "                tw.favorites,\n",
    "                tw.mentions,\n",
    "                tw.hashtags,\n",
    "                tw.geo] for tw in tweet]\n",
    "    df_state= pd.DataFrame(text_tweets, columns = \n",
    "                           ['User', 'Text', 'Date', 'Favorites', 'Retweets', 'Mentions','Hashtags', 'Geolocation'])\n",
    "    df_state.to_csv(word + \".csv\", index = False)\n",
    "    return df_state\n",
    "\n",
    "name_list = [\"nicole seah\", \"jamus lim\", \"ting ru\", \"cheng bock\", \"pritam singh\", \"raeesah\",\"sylvia lim\", \"paul tambyah\",\n",
    "             \"soon juan\", \"chee meng\", \"eng hwa\", \"s iswaran\",\"murali\",\"josephine teo\", \"lim tean\", \"victor lye\",\"swee keat\"\n",
    "            ]\n",
    "\n",
    "for name in name_list:\n",
    "    get_tweets(name)"
   ]
  }
 ],
 "metadata": {
  "kernelspec": {
   "display_name": "Python 3",
   "language": "python",
   "name": "python3"
  },
  "language_info": {
   "codemirror_mode": {
    "name": "ipython",
    "version": 3
   },
   "file_extension": ".py",
   "mimetype": "text/x-python",
   "name": "python",
   "nbconvert_exporter": "python",
   "pygments_lexer": "ipython3",
   "version": "3.7.6"
  }
 },
 "nbformat": 4,
 "nbformat_minor": 4
}
